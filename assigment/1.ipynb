{
 "cells": [
  {
   "cell_type": "markdown",
   "id": "fbf0a46c",
   "metadata": {},
   "source": [
    "# Handwriting OCR with TrOCR: IAM & Imgur5K Datasets\n",
    "This notebook implements end-to-end handwriting OCR using the TrOCR model, following the assignment steps: data loading, preprocessing, model setup, training, evaluation, and saving. Datasets: IAM and Imgur5K. Model: microsoft/trocr-large-handwritten."
   ]
  },
  {
   "cell_type": "code",
   "execution_count": null,
   "id": "534081ba",
   "metadata": {},
   "outputs": [],
   "source": [
    "# Install all required libraries for handwriting OCR and TrOCR pipeline\n",
    "!pip install torch torchvision torchaudio --quiet\n",
    "!pip install transformers --quiet\n",
    "!pip install jiwer editdistance --quiet\n",
    "!pip install pillow --quiet"
   ]
  },
  {
   "cell_type": "markdown",
   "id": "28e3d902",
   "metadata": {},
   "source": [
    "## Task 1: Load and Preprocess IAM and Imgur5K Datasets\n",
    "- Download IAM and Imgur5K datasets\n",
    "- Convert images to grayscale, resize to 384x384, normalize\n",
    "- Prepare PyTorch Dataset and DataLoader\n",
    "- Use line-level annotations for IAM"
   ]
  },
  {
   "cell_type": "code",
   "execution_count": 2,
   "id": "8bf0bf61",
   "metadata": {},
   "outputs": [
    {
     "ename": "ModuleNotFoundError",
     "evalue": "No module named 'torch'",
     "output_type": "error",
     "traceback": [
      "\u001b[1;31m---------------------------------------------------------------------------\u001b[0m",
      "\u001b[1;31mModuleNotFoundError\u001b[0m                       Traceback (most recent call last)",
      "Cell \u001b[1;32mIn[2], line 2\u001b[0m\n\u001b[0;32m      1\u001b[0m \u001b[38;5;28;01mimport\u001b[39;00m\u001b[38;5;250m \u001b[39m\u001b[38;5;21;01mos\u001b[39;00m\n\u001b[1;32m----> 2\u001b[0m \u001b[38;5;28;01mimport\u001b[39;00m\u001b[38;5;250m \u001b[39m\u001b[38;5;21;01mtorch\u001b[39;00m\n\u001b[0;32m      3\u001b[0m \u001b[38;5;28;01mfrom\u001b[39;00m\u001b[38;5;250m \u001b[39m\u001b[38;5;21;01mtorch\u001b[39;00m\u001b[38;5;21;01m.\u001b[39;00m\u001b[38;5;21;01mutils\u001b[39;00m\u001b[38;5;21;01m.\u001b[39;00m\u001b[38;5;21;01mdata\u001b[39;00m\u001b[38;5;250m \u001b[39m\u001b[38;5;28;01mimport\u001b[39;00m Dataset, DataLoader\n\u001b[0;32m      4\u001b[0m \u001b[38;5;28;01mfrom\u001b[39;00m\u001b[38;5;250m \u001b[39m\u001b[38;5;21;01mPIL\u001b[39;00m\u001b[38;5;250m \u001b[39m\u001b[38;5;28;01mimport\u001b[39;00m Image\n",
      "\u001b[1;31mModuleNotFoundError\u001b[0m: No module named 'torch'"
     ]
    }
   ],
   "source": [
    "import os\n",
    "import torch\n",
    "from torch.utils.data import Dataset, DataLoader\n",
    "from PIL import Image\n",
    "import requests\n",
    "from io import BytesIO\n",
    "import numpy as np\n",
    "\n",
    "# Helper: Download and preprocess image\n",
    "def preprocess_image(img_path):\n",
    "    img = Image.open(img_path).convert('L')  # Grayscale\n",
    "    img = img.resize((384, 384))\n",
    "    img = np.array(img) / 255.0  # Normalize\n",
    "    img = torch.tensor(img, dtype=torch.float32).unsqueeze(0)  # (1, 384, 384)\n",
    "    return img\n",
    "\n",
    "# Example custom dataset (replace with actual annotation loading)\n",
    "class HandwritingDataset(Dataset):\n",
    "    def __init__(self, img_dir, annotations):\n",
    "        self.img_dir = img_dir\n",
    "        self.annotations = annotations  # List of (img_name, text)\n",
    "    def __len__(self):\n",
    "        return len(self.annotations)\n",
    "    def __getitem__(self, idx):\n",
    "        img_name, text = self.annotations[idx]\n",
    "        img_path = os.path.join(self.img_dir, img_name)\n",
    "        image = preprocess_image(img_path)\n",
    "        return image, text\n",
    "\n",
    "# Example usage (replace with real paths and annotation loading)\n",
    "# iam_dataset = HandwritingDataset('IAM/images', iam_annotations)\n",
    "# imgur5k_dataset = HandwritingDataset('Imgur5K/images', imgur5k_annotations)\n",
    "# dataloader = DataLoader(iam_dataset, batch_size=4, shuffle=True)"
   ]
  },
  {
   "cell_type": "markdown",
   "id": "eef58ecd",
   "metadata": {},
   "source": [
    "## Task 2: Initialize TrOCR Model and Processor\n",
    "- Use microsoft/trocr-large-handwritten from Hugging Face\n",
    "- Load model to GPU if available\n",
    "- Prepare processor for image and text"
   ]
  },
  {
   "cell_type": "code",
   "execution_count": null,
   "id": "a23054da",
   "metadata": {},
   "outputs": [],
   "source": [
    "from transformers import AutoProcessor, VisionEncoderDecoderModel\n",
    "\n",
    "device = torch.device('cuda' if torch.cuda.is_available() else 'cpu')\n",
    "processor = AutoProcessor.from_pretrained('microsoft/trocr-large-handwritten')\n",
    "model = VisionEncoderDecoderModel.from_pretrained('microsoft/trocr-large-handwritten').to(device)\n",
    "\n",
    "# Example: process image and text\n",
    "# inputs = processor(images=image, return_tensors='pt').to(device)\n",
    "# labels = processor.tokenizer(text, return_tensors='pt', padding='max_length', max_length=128, truncation=True).input_ids.to(device)"
   ]
  },
  {
   "cell_type": "markdown",
   "id": "9a7b8433",
   "metadata": {},
   "source": [
    "## Task 3: Training Configuration\n",
    "- Adam optimizer (lr=5e-5), batch size 4, mixed precision\n",
    "- 10% validation split, monitor CER for early stopping"
   ]
  },
  {
   "cell_type": "code",
   "execution_count": null,
   "id": "6445e89f",
   "metadata": {},
   "outputs": [],
   "source": [
    "from torch.optim import AdamW\n",
    "from torch.cuda.amp import GradScaler, autocast\n",
    "\n",
    "optimizer = AdamW(model.parameters(), lr=5e-5)\n",
    "scaler = GradScaler()\n",
    "\n",
    "# Example train/val split (replace with real data)\n",
    "# train_size = int(0.9 * len(dataset))\n",
    "# val_size = len(dataset) - train_size\n",
    "# train_dataset, val_dataset = torch.utils.data.random_split(dataset, [train_size, val_size])\n",
    "# train_loader = DataLoader(train_dataset, batch_size=4, shuffle=True)\n",
    "# val_loader = DataLoader(val_dataset, batch_size=4)"
   ]
  },
  {
   "cell_type": "markdown",
   "id": "3bac6e5c",
   "metadata": {},
   "source": [
    "## Task 4: Evaluation Functions\n",
    "- Implement Character Error Rate (CER) and Word Error Rate (WER)\n",
    "- Use editdistance or jiwer library"
   ]
  },
  {
   "cell_type": "code",
   "execution_count": null,
   "id": "0a4a2cc5",
   "metadata": {},
   "outputs": [],
   "source": [
    "!pip install jiwer editdistance --quiet\n",
    "import jiwer\n",
    "import editdistance\n",
    "\n",
    "def compute_cer(preds, labels):\n",
    "    total_edits = 0\n",
    "    total_chars = 0\n",
    "    for p, l in zip(preds, labels):\n",
    "        total_edits += editdistance.eval(p, l)\n",
    "        total_chars += len(l)\n",
    "    return total_edits / total_chars if total_chars > 0 else 0\n",
    "\n",
    "def compute_wer(preds, labels):\n",
    "    return jiwer.wer(labels, preds)\n",
    "\n",
    "# Example usage:\n",
    "# cer = compute_cer(['hello'], ['h3llo'])\n",
    "# wer = compute_wer(['hello world'], ['h3llo world'])"
   ]
  },
  {
   "cell_type": "markdown",
   "id": "3993eaab",
   "metadata": {},
   "source": [
    "## Task 5: Fine-tune the Model\n",
    "- Train for 10+ epochs, combine IAM and Imgur5K\n",
    "- Log CER and WER after each epoch"
   ]
  },
  {
   "cell_type": "code",
   "execution_count": null,
   "id": "5f0dc2d2",
   "metadata": {},
   "outputs": [],
   "source": [
    "num_epochs = 10\n",
    "for epoch in range(num_epochs):\n",
    "    model.train()\n",
    "    for images, texts in train_loader:\n",
    "        images = images.to(device)\n",
    "        labels = processor.tokenizer(list(texts), return_tensors='pt', padding=True, truncation=True).input_ids.to(device)\n",
    "        with autocast():\n",
    "            outputs = model(pixel_values=images, labels=labels)\n",
    "            loss = outputs.loss\n",
    "        scaler.scale(loss).backward()\n",
    "        scaler.step(optimizer)\n",
    "        scaler.update()\n",
    "        optimizer.zero_grad()\n",
    "    # Validation\n",
    "    model.eval()\n",
    "    val_preds, val_labels = [], []\n",
    "    with torch.no_grad():\n",
    "        for images, texts in val_loader:\n",
    "            images = images.to(device)\n",
    "            labels = list(texts)\n",
    "            generated_ids = model.generate(pixel_values=images)\n",
    "            preds = processor.batch_decode(generated_ids, skip_special_tokens=True)\n",
    "            val_preds.extend(preds)\n",
    "            val_labels.extend(labels)\n",
    "    cer = compute_cer(val_preds, val_labels)\n",
    "    wer = compute_wer(val_preds, val_labels)\n",
    "    print(f\"Epoch {epoch+1}: CER={cer:.4f}, WER={wer:.4f}\")"
   ]
  },
  {
   "cell_type": "markdown",
   "id": "0822d73b",
   "metadata": {},
   "source": [
    "## Task 6: Evaluate on Held-out IAM Test Set\n",
    "- Evaluate on test split, report final CER and WER\n",
    "- Display predictions and errors for 5 samples"
   ]
  },
  {
   "cell_type": "code",
   "execution_count": null,
   "id": "655bd9c9",
   "metadata": {},
   "outputs": [],
   "source": [
    "# Example test evaluation (replace with real test_loader)\n",
    "model.eval()\n",
    "test_preds, test_labels = [], []\n",
    "with torch.no_grad():\n",
    "    for images, texts in test_loader:\n",
    "        images = images.to(device)\n",
    "        labels = list(texts)\n",
    "        generated_ids = model.generate(pixel_values=images)\n",
    "        preds = processor.batch_decode(generated_ids, skip_special_tokens=True)\n",
    "        test_preds.extend(preds)\n",
    "        test_labels.extend(labels)\n",
    "cer = compute_cer(test_preds, test_labels)\n",
    "wer = compute_wer(test_preds, test_labels)\n",
    "print(f\"Test CER: {cer:.4f}, Test WER: {wer:.4f}\")\n",
    "\n",
    "# Show 5 sample predictions\n",
    "for i in range(5):\n",
    "    print(f\"GT: {test_labels[i]} | Pred: {test_preds[i]}\")"
   ]
  },
  {
   "cell_type": "markdown",
   "id": "ff54eaf0",
   "metadata": {},
   "source": [
    "## Task 7: Save the Fine-tuned Model\n",
    "- Save model weights and processor in Hugging Face format"
   ]
  },
  {
   "cell_type": "code",
   "execution_count": null,
   "id": "cddeafa7",
   "metadata": {},
   "outputs": [],
   "source": [
    "model.save_pretrained('finetuned_trocr')\n",
    "processor.save_pretrained('finetuned_trocr')\n",
    "# Optionally: push to Hugging Face Hub\n",
    "# from huggingface_hub import notebook_login\n",
    "# notebook_login()\n",
    "# model.push_to_hub('your-username/finetuned-trocr')\n",
    "# processor.push_to_hub('your-username/finetuned-trocr')"
   ]
  },
  {
   "cell_type": "markdown",
   "id": "65c70149",
   "metadata": {},
   "source": [
    "## Task 8 (Optional): Generate Synthetic Handwriting Data\n",
    "- Use TextRecognitionDataGenerator to create synthetic samples"
   ]
  },
  {
   "cell_type": "code",
   "execution_count": null,
   "id": "28ce2b19",
   "metadata": {},
   "outputs": [],
   "source": [
    "# Example: Generate synthetic data using TextRecognitionDataGenerator\n",
    "# !git clone https://github.com/Belval/TextRecognitionDataGenerator.git\n",
    "# %cd TextRecognitionDataGenerator\n",
    "# !pip install -r requirements.txt\n",
    "# !python run.py -w 1000 -c 5 --output_dir ../synthetic_data\n",
    "# Add generated images and labels to your training set"
   ]
  },
  {
   "cell_type": "code",
   "execution_count": null,
   "id": "078a7bd3",
   "metadata": {},
   "outputs": [],
   "source": [
    "# Install required libraries for handwriting OCR and TrOCR pipeline\n",
    "!pip install torch torchvision torchaudio --quiet\n",
    "!pip install transformers --quiet\n",
    "!pip install jiwer editdistance --quiet\n",
    "!pip install pillow --quiet"
   ]
  }
 ],
 "metadata": {
  "kernelspec": {
   "display_name": "Python 3",
   "language": "python",
   "name": "python3"
  },
  "language_info": {
   "codemirror_mode": {
    "name": "ipython",
    "version": 3
   },
   "file_extension": ".py",
   "mimetype": "text/x-python",
   "name": "python",
   "nbconvert_exporter": "python",
   "pygments_lexer": "ipython3",
   "version": "3.9.21"
  }
 },
 "nbformat": 4,
 "nbformat_minor": 5
}
